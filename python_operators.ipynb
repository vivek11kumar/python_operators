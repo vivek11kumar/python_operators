{
 "cells": [
  {
   "cell_type": "markdown",
   "id": "0d471287",
   "metadata": {},
   "source": [
    "# Python Operators\n",
    "* Arithmetic operators\n",
    "* Assignment operators\n",
    "* comparison operators\n",
    "* Logical operators\n",
    "* Identity operators\n",
    "* Membership operators\n",
    "* Bitwise operators"
   ]
  },
  {
   "cell_type": "markdown",
   "id": "8c1e228e",
   "metadata": {},
   "source": [
    "# Arithmetic operators\n",
    "* addition(+)\n",
    "* Subtraction(-)\n",
    "* Multiplication(*)\n",
    "* exponential(**)\n",
    "* Division (/)\n",
    "* floor division(//)\n",
    "* modulus (%)"
   ]
  },
  {
   "cell_type": "code",
   "execution_count": 1,
   "id": "287e5a9a",
   "metadata": {},
   "outputs": [
    {
     "name": "stdout",
     "output_type": "stream",
     "text": [
      "700\n",
      "<class 'int'>\n"
     ]
    }
   ],
   "source": [
    "# addition(+): It is used to add two or more elements\n",
    "a = 500\n",
    "b = 200\n",
    "c = a+b\n",
    "print(c)\n",
    "print(type(c))"
   ]
  },
  {
   "cell_type": "code",
   "execution_count": 2,
   "id": "972ffd60",
   "metadata": {},
   "outputs": [
    {
     "name": "stdout",
     "output_type": "stream",
     "text": [
      "200\n",
      "<class 'int'>\n"
     ]
    }
   ],
   "source": [
    "# Subtraction(-): It is used to find the difference between 2 or more numbers\n",
    "a = 500\n",
    "b = 300\n",
    "d = a-b\n",
    "print(d)\n",
    "print(type(d))"
   ]
  },
  {
   "cell_type": "code",
   "execution_count": 3,
   "id": "80ff0d91",
   "metadata": {},
   "outputs": [
    {
     "name": "stdout",
     "output_type": "stream",
     "text": [
      "20\n",
      "<class 'int'>\n"
     ]
    }
   ],
   "source": [
    "# Multiplication(*):It is used to multiply 2 or more numbers\n",
    "a = 5\n",
    "b = 4\n",
    "e = a*b\n",
    "print(e)\n",
    "print(type(e))"
   ]
  },
  {
   "cell_type": "code",
   "execution_count": 4,
   "id": "4a172276",
   "metadata": {},
   "outputs": [
    {
     "name": "stdout",
     "output_type": "stream",
     "text": [
      "8\n",
      "<class 'int'>\n"
     ]
    }
   ],
   "source": [
    "# exponential(**):power\n",
    "# 2 power 3\n",
    "d = 2**3\n",
    "print(d)\n",
    "print(type(e))"
   ]
  },
  {
   "cell_type": "code",
   "execution_count": 5,
   "id": "96956971",
   "metadata": {},
   "outputs": [
    {
     "name": "stdout",
     "output_type": "stream",
     "text": [
      "100000\n",
      "<class 'int'>\n"
     ]
    }
   ],
   "source": [
    "#10 power 5\n",
    "f = 10**5\n",
    "print(f)\n",
    "print(type(f))"
   ]
  },
  {
   "cell_type": "code",
   "execution_count": 7,
   "id": "dee73753",
   "metadata": {},
   "outputs": [
    {
     "name": "stdout",
     "output_type": "stream",
     "text": [
      "10.0\n",
      "<class 'float'>\n"
     ]
    }
   ],
   "source": [
    "# division(/):It is used to divide one number by other\n",
    "m = 100\n",
    "n = 10\n",
    "j = m/n\n",
    "print(j)\n",
    "print(type(j))\n",
    "# result will be in float format"
   ]
  },
  {
   "cell_type": "code",
   "execution_count": 10,
   "id": "4d3d5fa5",
   "metadata": {},
   "outputs": [
    {
     "name": "stdout",
     "output_type": "stream",
     "text": [
      "9\n",
      "<class 'int'>\n"
     ]
    }
   ],
   "source": [
    "# floor division(//): It returns integer result upon division\n",
    "k = 100\n",
    "l = 11\n",
    "a = k//l\n",
    "print(a)\n",
    "print(type(a))"
   ]
  },
  {
   "cell_type": "code",
   "execution_count": null,
   "id": "ed2f28cd",
   "metadata": {},
   "outputs": [
    {
     "name": "stdout",
     "output_type": "stream",
     "text": [
      "1\n",
      "<class 'int'>\n"
     ]
    }
   ],
   "source": [
    " # Modulus(%): It returns remainder value upon division\n",
    "m = 100\n",
    "n = 9\n",
    "s = m%n\n",
    "print(s)\n",
    "print(type(s)) "
   ]
  },
  {
   "cell_type": "code",
   "execution_count": 12,
   "id": "1c1006e8",
   "metadata": {},
   "outputs": [
    {
     "name": "stdout",
     "output_type": "stream",
     "text": [
      "0\n",
      "<class 'int'>\n"
     ]
    }
   ],
   "source": [
    "m = 100\n",
    "n = 10\n",
    "s = m%n\n",
    "print(s)\n",
    "print(type(s)) "
   ]
  },
  {
   "cell_type": "code",
   "execution_count": 14,
   "id": "621a16a0",
   "metadata": {},
   "outputs": [
    {
     "name": "stdout",
     "output_type": "stream",
     "text": [
      "2\n",
      "<class 'int'>\n"
     ]
    }
   ],
   "source": [
    " # Modulus(%): It returns remainder value upon division\n",
    "m = 20\n",
    "n = 9\n",
    "s = m%n\n",
    "print(s)\n",
    "print(type(s)) "
   ]
  },
  {
   "cell_type": "code",
   "execution_count": 15,
   "id": "a4e98f0e",
   "metadata": {},
   "outputs": [
    {
     "data": {
      "text/plain": [
       "0"
      ]
     },
     "execution_count": 15,
     "metadata": {},
     "output_type": "execute_result"
    }
   ],
   "source": [
    "12%4"
   ]
  },
  {
   "cell_type": "markdown",
   "id": "855c7898",
   "metadata": {},
   "source": [
    "# Comparison operators\n",
    "\n",
    "Comaprison operators are used to compare values.\n",
    "\n",
    "* equal(==)\n",
    "* not equal (!=)\n",
    "* greater than (>)\n",
    "* less than (<)\n",
    "* greaterthan or equal (>=)\n",
    "* less than or equal (<=)"
   ]
  },
  {
   "cell_type": "code",
   "execution_count": 20,
   "id": "36829f2a",
   "metadata": {},
   "outputs": [
    {
     "data": {
      "text/plain": [
       "False"
      ]
     },
     "execution_count": 20,
     "metadata": {},
     "output_type": "execute_result"
    }
   ],
   "source": [
    "# Is a same as b\n",
    "a = 10\n",
    "b = 20\n",
    "a == b"
   ]
  },
  {
   "cell_type": "code",
   "execution_count": 23,
   "id": "d81c1c6b",
   "metadata": {},
   "outputs": [
    {
     "data": {
      "text/plain": [
       "False"
      ]
     },
     "execution_count": 23,
     "metadata": {},
     "output_type": "execute_result"
    }
   ],
   "source": [
    "b ==a"
   ]
  },
  {
   "cell_type": "code",
   "execution_count": 22,
   "id": "7734eab0",
   "metadata": {},
   "outputs": [
    {
     "data": {
      "text/plain": [
       "True"
      ]
     },
     "execution_count": 22,
     "metadata": {},
     "output_type": "execute_result"
    }
   ],
   "source": [
    "# Is a and b are different\n",
    "a!=b"
   ]
  },
  {
   "cell_type": "code",
   "execution_count": 24,
   "id": "d3c385ca",
   "metadata": {},
   "outputs": [
    {
     "data": {
      "text/plain": [
       "True"
      ]
     },
     "execution_count": 24,
     "metadata": {},
     "output_type": "execute_result"
    }
   ],
   "source": [
    "b!=a"
   ]
  },
  {
   "cell_type": "code",
   "execution_count": 32,
   "id": "7ca6c1a3",
   "metadata": {},
   "outputs": [
    {
     "data": {
      "text/plain": [
       "False"
      ]
     },
     "execution_count": 32,
     "metadata": {},
     "output_type": "execute_result"
    }
   ],
   "source": [
    "# Is a greater than b\n",
    "a>b\n"
   ]
  },
  {
   "cell_type": "code",
   "execution_count": 26,
   "id": "96d215a0",
   "metadata": {},
   "outputs": [
    {
     "data": {
      "text/plain": [
       "True"
      ]
     },
     "execution_count": 26,
     "metadata": {},
     "output_type": "execute_result"
    }
   ],
   "source": [
    "b>a"
   ]
  },
  {
   "cell_type": "code",
   "execution_count": null,
   "id": "5bff019d",
   "metadata": {},
   "outputs": [
    {
     "data": {
      "text/plain": [
       "True"
      ]
     },
     "execution_count": 30,
     "metadata": {},
     "output_type": "execute_result"
    }
   ],
   "source": [
    "# Is a gless than b\n",
    "a<b"
   ]
  },
  {
   "cell_type": "code",
   "execution_count": 31,
   "id": "35f2c90e",
   "metadata": {},
   "outputs": [
    {
     "data": {
      "text/plain": [
       "False"
      ]
     },
     "execution_count": 31,
     "metadata": {},
     "output_type": "execute_result"
    }
   ],
   "source": [
    "# Is b less than a\n",
    "b<a"
   ]
  },
  {
   "cell_type": "code",
   "execution_count": 33,
   "id": "bbf5765c",
   "metadata": {},
   "outputs": [
    {
     "data": {
      "text/plain": [
       "False"
      ]
     },
     "execution_count": 33,
     "metadata": {},
     "output_type": "execute_result"
    }
   ],
   "source": [
    "# Is a greater than or equal to b\n",
    "a>=b"
   ]
  },
  {
   "cell_type": "code",
   "execution_count": 34,
   "id": "d0754411",
   "metadata": {},
   "outputs": [
    {
     "data": {
      "text/plain": [
       "True"
      ]
     },
     "execution_count": 34,
     "metadata": {},
     "output_type": "execute_result"
    }
   ],
   "source": [
    "# Is b greater than or equal to a\n",
    "b>=a"
   ]
  },
  {
   "cell_type": "code",
   "execution_count": 35,
   "id": "128ed35c",
   "metadata": {},
   "outputs": [
    {
     "data": {
      "text/plain": [
       "False"
      ]
     },
     "execution_count": 35,
     "metadata": {},
     "output_type": "execute_result"
    }
   ],
   "source": [
    "# Is b less than or equal to a\n",
    "b<=a"
   ]
  },
  {
   "cell_type": "markdown",
   "id": "9ebc92fa",
   "metadata": {},
   "source": [
    "# Logical operators\n",
    "It is used to compare multiple conditions\n",
    "* and\n",
    "* or\n",
    "* not"
   ]
  },
  {
   "cell_type": "code",
   "execution_count": 37,
   "id": "9dd31ba8",
   "metadata": {},
   "outputs": [
    {
     "data": {
      "text/plain": [
       "True"
      ]
     },
     "execution_count": 37,
     "metadata": {},
     "output_type": "execute_result"
    }
   ],
   "source": [
    "# and : If all the conditions are true  it returns true otherwise false.\n",
    "# True and TRue-->True\n",
    "(10>5) and (100>50)"
   ]
  },
  {
   "cell_type": "code",
   "execution_count": 38,
   "id": "7b75a757",
   "metadata": {},
   "outputs": [
    {
     "data": {
      "text/plain": [
       "False"
      ]
     },
     "execution_count": 38,
     "metadata": {},
     "output_type": "execute_result"
    }
   ],
   "source": [
    "# False and True-->False\n",
    "(10<5) and (100>50)"
   ]
  },
  {
   "cell_type": "code",
   "execution_count": 39,
   "id": "c8f9e4fc",
   "metadata": {},
   "outputs": [
    {
     "data": {
      "text/plain": [
       "False"
      ]
     },
     "execution_count": 39,
     "metadata": {},
     "output_type": "execute_result"
    }
   ],
   "source": [
    "# False and False --> False\n",
    "(10<5) and (100<50)"
   ]
  },
  {
   "cell_type": "code",
   "execution_count": 40,
   "id": "f5446837",
   "metadata": {},
   "outputs": [
    {
     "data": {
      "text/plain": [
       "True"
      ]
     },
     "execution_count": 40,
     "metadata": {},
     "output_type": "execute_result"
    }
   ],
   "source": [
    "(10.1>10)and(30<30.2)"
   ]
  },
  {
   "cell_type": "markdown",
   "id": "85df3e7c",
   "metadata": {},
   "source": [
    "\n",
    "# T and T : T\n",
    "# T and F : F\n",
    "# F and T : F\n",
    "# F and F : F \n"
   ]
  },
  {
   "cell_type": "code",
   "execution_count": 41,
   "id": "9e201948",
   "metadata": {},
   "outputs": [
    {
     "data": {
      "text/plain": [
       "'\\nT and T : T\\nT and F : F\\nF and T : F\\nF and F : F '"
      ]
     },
     "execution_count": 41,
     "metadata": {},
     "output_type": "execute_result"
    }
   ],
   "source": [
    "'''\n",
    "T and T : T\n",
    "T and F : F\n",
    "F and T : F\n",
    "F and F : F '''\n"
   ]
  },
  {
   "cell_type": "markdown",
   "id": "4160de1c",
   "metadata": {},
   "source": [
    "# or : It returns true if either of the condition is true , otherwise False.\n",
    "\n",
    "\n",
    "* TT : T\n",
    "* TF : T\n",
    "* FT : T\n",
    "* FF : F "
   ]
  },
  {
   "cell_type": "code",
   "execution_count": 42,
   "id": "a53c4feb",
   "metadata": {},
   "outputs": [
    {
     "data": {
      "text/plain": [
       "True"
      ]
     },
     "execution_count": 42,
     "metadata": {},
     "output_type": "execute_result"
    }
   ],
   "source": [
    "(20 > 2) or (30>3)\n",
    "# True or True--> True\n"
   ]
  },
  {
   "cell_type": "code",
   "execution_count": 43,
   "id": "01a0ab06",
   "metadata": {},
   "outputs": [
    {
     "data": {
      "text/plain": [
       "True"
      ]
     },
     "execution_count": 43,
     "metadata": {},
     "output_type": "execute_result"
    }
   ],
   "source": [
    "(10 > 100) or (100<1000)\n",
    "# False or True -- True\n"
   ]
  },
  {
   "cell_type": "code",
   "execution_count": 44,
   "id": "0d4993da",
   "metadata": {},
   "outputs": [
    {
     "data": {
      "text/plain": [
       "False"
      ]
     },
     "execution_count": 44,
     "metadata": {},
     "output_type": "execute_result"
    }
   ],
   "source": [
    "( 2>200) or (5> 500)\n",
    "# False or False-- False"
   ]
  },
  {
   "cell_type": "code",
   "execution_count": 45,
   "id": "f832f526",
   "metadata": {},
   "outputs": [
    {
     "data": {
      "text/plain": [
       "True"
      ]
     },
     "execution_count": 45,
     "metadata": {},
     "output_type": "execute_result"
    }
   ],
   "source": [
    "# not: If condition is True it returns false and vice versa.\n",
    "not(70>100)"
   ]
  },
  {
   "cell_type": "code",
   "execution_count": 46,
   "id": "626e48cb",
   "metadata": {},
   "outputs": [
    {
     "data": {
      "text/plain": [
       "False"
      ]
     },
     "execution_count": 46,
     "metadata": {},
     "output_type": "execute_result"
    }
   ],
   "source": [
    "not(True)"
   ]
  },
  {
   "cell_type": "code",
   "execution_count": 47,
   "id": "2fba4c21",
   "metadata": {},
   "outputs": [
    {
     "data": {
      "text/plain": [
       "True"
      ]
     },
     "execution_count": 47,
     "metadata": {},
     "output_type": "execute_result"
    }
   ],
   "source": [
    "not(False)"
   ]
  },
  {
   "cell_type": "code",
   "execution_count": 48,
   "id": "cec3c768",
   "metadata": {},
   "outputs": [
    {
     "data": {
      "text/plain": [
       "True"
      ]
     },
     "execution_count": 48,
     "metadata": {},
     "output_type": "execute_result"
    }
   ],
   "source": [
    "not(10 > 100)"
   ]
  },
  {
   "cell_type": "markdown",
   "id": "f9afdfb0",
   "metadata": {},
   "source": [
    "# order of precedence\n",
    "* Parenthesis ()\n",
    "* comparison(==,!=,<,><=,>=)\n",
    "* not\n",
    "* and\n",
    "* or"
   ]
  },
  {
   "cell_type": "code",
   "execution_count": 49,
   "id": "ed8f7278",
   "metadata": {},
   "outputs": [
    {
     "data": {
      "text/plain": [
       "True"
      ]
     },
     "execution_count": 49,
     "metadata": {},
     "output_type": "execute_result"
    }
   ],
   "source": [
    "(10 > 100) and (30 < 20) or (2 > 200) or not(5==6)\n",
    "\n",
    "#False and False or False or not(False)\n",
    "#False and False or False or True\n",
    "#False or False or True\n",
    "#True\n",
    "\n"
   ]
  },
  {
   "cell_type": "code",
   "execution_count": 50,
   "id": "62aa2899",
   "metadata": {},
   "outputs": [
    {
     "data": {
      "text/plain": [
       "True"
      ]
     },
     "execution_count": 50,
     "metadata": {},
     "output_type": "execute_result"
    }
   ],
   "source": [
    "(100>20) or not(20 >=30) and (10==10) or not(20<40)\n",
    "#  True or not(False) and (True ) or not(True)\n",
    "# True or True and True or False\n",
    "# True or True or False\n",
    "# True"
   ]
  },
  {
   "cell_type": "markdown",
   "id": "0ebcf213",
   "metadata": {},
   "source": [
    "# Identity operators\n",
    "It is used to check whether two variables has same values or not.\n",
    "* is (==)\n",
    "* is not(!=)"
   ]
  },
  {
   "cell_type": "code",
   "execution_count": 51,
   "id": "7182362e",
   "metadata": {},
   "outputs": [
    {
     "data": {
      "text/plain": [
       "False"
      ]
     },
     "execution_count": 51,
     "metadata": {},
     "output_type": "execute_result"
    }
   ],
   "source": [
    "# is : operator gives True if both variables has same values else it gives false.\n",
    "a = 10\n",
    "b = 20\n",
    "# Is a abd b are same\n",
    "a is b"
   ]
  },
  {
   "cell_type": "code",
   "execution_count": 52,
   "id": "5880f207",
   "metadata": {},
   "outputs": [
    {
     "name": "stdout",
     "output_type": "stream",
     "text": [
      "True\n"
     ]
    }
   ],
   "source": [
    "x = 10\n",
    "y = 10\n",
    "print(x is y)"
   ]
  },
  {
   "cell_type": "code",
   "execution_count": 53,
   "id": "b3f3ff23",
   "metadata": {},
   "outputs": [
    {
     "data": {
      "text/plain": [
       "True"
      ]
     },
     "execution_count": 53,
     "metadata": {},
     "output_type": "execute_result"
    }
   ],
   "source": [
    "m = 10\n",
    "n = 20\n",
    "m is not n"
   ]
  },
  {
   "cell_type": "code",
   "execution_count": 54,
   "id": "6d5403f1",
   "metadata": {},
   "outputs": [
    {
     "data": {
      "text/plain": [
       "True"
      ]
     },
     "execution_count": 54,
     "metadata": {},
     "output_type": "execute_result"
    }
   ],
   "source": [
    "x = 100\n",
    "y = 3000\n",
    "x is not y"
   ]
  },
  {
   "cell_type": "code",
   "execution_count": 55,
   "id": "8691a6ab",
   "metadata": {},
   "outputs": [
    {
     "data": {
      "text/plain": [
       "False"
      ]
     },
     "execution_count": 55,
     "metadata": {},
     "output_type": "execute_result"
    }
   ],
   "source": [
    "a = 10\n",
    "b = 10\n",
    "a is not b"
   ]
  },
  {
   "cell_type": "markdown",
   "id": "943d32bc",
   "metadata": {},
   "source": [
    "# Membership operators\n",
    "It is used to find any character or element present in object or not.\n",
    "* in\n",
    "* not in"
   ]
  },
  {
   "cell_type": "code",
   "execution_count": 56,
   "id": "0feb2d3b",
   "metadata": {},
   "outputs": [
    {
     "name": "stdout",
     "output_type": "stream",
     "text": [
      "True\n"
     ]
    }
   ],
   "source": [
    "A = [10,20,30,40,50]\n",
    "# check whether 40 is present in A or not\n",
    "print(40 in A)"
   ]
  },
  {
   "cell_type": "code",
   "execution_count": 57,
   "id": "31ffe230",
   "metadata": {},
   "outputs": [
    {
     "name": "stdout",
     "output_type": "stream",
     "text": [
      "False\n"
     ]
    }
   ],
   "source": [
    "a = [100,500,300,400]\n",
    "print(700 in a)"
   ]
  },
  {
   "cell_type": "code",
   "execution_count": 59,
   "id": "3804988d",
   "metadata": {},
   "outputs": [
    {
     "name": "stdout",
     "output_type": "stream",
     "text": [
      "True\n"
     ]
    }
   ],
   "source": [
    "# check whether 100 is in A or not\n",
    "print(100 in a)"
   ]
  },
  {
   "cell_type": "code",
   "execution_count": 60,
   "id": "be5fb3dd",
   "metadata": {},
   "outputs": [
    {
     "name": "stdout",
     "output_type": "stream",
     "text": [
      "False\n"
     ]
    }
   ],
   "source": [
    "colors = ['blue','green','orange','yellow']\n",
    "# check whether green in colors using not in operator\n",
    "print(\"green\" not in colors)"
   ]
  },
  {
   "cell_type": "code",
   "execution_count": 61,
   "id": "b88bf90c",
   "metadata": {},
   "outputs": [
    {
     "name": "stdout",
     "output_type": "stream",
     "text": [
      "False\n"
     ]
    }
   ],
   "source": [
    "print('orange' not in colors)"
   ]
  },
  {
   "cell_type": "code",
   "execution_count": 62,
   "id": "c02f6c53",
   "metadata": {},
   "outputs": [
    {
     "name": "stdout",
     "output_type": "stream",
     "text": [
      "True\n"
     ]
    }
   ],
   "source": [
    "print('magenta' not in colors)"
   ]
  },
  {
   "cell_type": "code",
   "execution_count": 63,
   "id": "09c12105",
   "metadata": {},
   "outputs": [
    {
     "name": "stdout",
     "output_type": "stream",
     "text": [
      "True\n"
     ]
    }
   ],
   "source": [
    "# check whether pink color in colors or not using not in\n",
    "print(\"pink\" not in colors)"
   ]
  },
  {
   "cell_type": "code",
   "execution_count": 64,
   "id": "35c9a94b",
   "metadata": {},
   "outputs": [
    {
     "name": "stdout",
     "output_type": "stream",
     "text": [
      "True\n"
     ]
    }
   ],
   "source": [
    "A = \"python\"\n",
    "print('p' in A)"
   ]
  },
  {
   "cell_type": "markdown",
   "id": "3b409ab1",
   "metadata": {},
   "source": [
    "# Assignment operator"
   ]
  },
  {
   "cell_type": "code",
   "execution_count": 65,
   "id": "9b577a89",
   "metadata": {},
   "outputs": [
    {
     "name": "stdout",
     "output_type": "stream",
     "text": [
      "30000\n"
     ]
    }
   ],
   "source": [
    "# addition(+=)\n",
    "salary = 20000\n",
    "# update salary by adding 10000\n",
    "# salary = 20000 + 10000\n",
    "# salary = salary+10000\n",
    "salary+=10000\n",
    "print(salary)\n"
   ]
  },
  {
   "cell_type": "code",
   "execution_count": 66,
   "id": "c7868d02",
   "metadata": {},
   "outputs": [
    {
     "name": "stdout",
     "output_type": "stream",
     "text": [
      "1100\n"
     ]
    }
   ],
   "source": [
    "a = 100\n",
    "# increment a by 1000\n",
    "# a= a+100\n",
    "a+=1000\n",
    "print(a)\n"
   ]
  },
  {
   "cell_type": "code",
   "execution_count": 67,
   "id": "c4167d91",
   "metadata": {},
   "outputs": [
    {
     "name": "stdout",
     "output_type": "stream",
     "text": [
      "1200\n"
     ]
    }
   ],
   "source": [
    "b= 500\n",
    "b += 700\n",
    "print(b)"
   ]
  },
  {
   "cell_type": "code",
   "execution_count": 68,
   "id": "a75fe644",
   "metadata": {},
   "outputs": [
    {
     "name": "stdout",
     "output_type": "stream",
     "text": [
      "30000\n"
     ]
    }
   ],
   "source": [
    "# subtraction(-=)\n",
    "salary = 50000\n",
    "# decrease salary by subtracting it with 20000\n",
    "# salary=salary-20000\n",
    "salary-=20000\n",
    "print(salary)"
   ]
  },
  {
   "cell_type": "code",
   "execution_count": 69,
   "id": "9623ae9a",
   "metadata": {},
   "outputs": [
    {
     "name": "stdout",
     "output_type": "stream",
     "text": [
      "90000\n"
     ]
    }
   ],
   "source": [
    "salary = 120000\n",
    "salary -= 30000\n",
    "print(salary)"
   ]
  },
  {
   "cell_type": "code",
   "execution_count": 70,
   "id": "a2445f0f",
   "metadata": {},
   "outputs": [
    {
     "name": "stdout",
     "output_type": "stream",
     "text": [
      "60000\n"
     ]
    }
   ],
   "source": [
    "# multiplication(*=)\n",
    "salary = 10000\n",
    "# multiple actual salary with 6\n",
    "#salary = salary * 6\n",
    "salary*=6\n",
    "print(salary)\n"
   ]
  },
  {
   "cell_type": "code",
   "execution_count": 71,
   "id": "d4c177d1",
   "metadata": {},
   "outputs": [
    {
     "name": "stdout",
     "output_type": "stream",
     "text": [
      "1440000\n"
     ]
    }
   ],
   "source": [
    "salary = 120000\n",
    "# multiply actual salary with 12\n",
    "# salary = salary * 12\n",
    "salary*=12\n",
    "print(salary)\n"
   ]
  },
  {
   "cell_type": "code",
   "execution_count": 72,
   "id": "a1621653",
   "metadata": {},
   "outputs": [
    {
     "name": "stdout",
     "output_type": "stream",
     "text": [
      "20.0\n"
     ]
    }
   ],
   "source": [
    "# division(/=)\n",
    "a = 100\n",
    "# divide a by 5\n",
    "# a=a/5\n",
    "a/=5\n",
    "print(a)\n"
   ]
  },
  {
   "cell_type": "code",
   "execution_count": 74,
   "id": "ef200e5f",
   "metadata": {},
   "outputs": [
    {
     "name": "stdout",
     "output_type": "stream",
     "text": [
      "500.0\n"
     ]
    }
   ],
   "source": [
    "b = 5000\n",
    "b /= 10\n",
    "print(b)"
   ]
  },
  {
   "cell_type": "code",
   "execution_count": 75,
   "id": "baa810c2",
   "metadata": {},
   "outputs": [
    {
     "name": "stdout",
     "output_type": "stream",
     "text": [
      "20\n"
     ]
    }
   ],
   "source": [
    "# floor division(//=)\n",
    "a = 100\n",
    "# divide a by 5 and get integer result\n",
    "# a=a//5\n",
    "a//=5\n",
    "print(a)"
   ]
  },
  {
   "cell_type": "code",
   "execution_count": 76,
   "id": "753f06dc",
   "metadata": {},
   "outputs": [
    {
     "name": "stdout",
     "output_type": "stream",
     "text": [
      "1666\n"
     ]
    }
   ],
   "source": [
    "c = 5000\n",
    "c//=3\n",
    "print(c)"
   ]
  },
  {
   "cell_type": "code",
   "execution_count": 77,
   "id": "907fdf8b",
   "metadata": {},
   "outputs": [
    {
     "data": {
      "text/plain": [
       "20.0"
      ]
     },
     "execution_count": 77,
     "metadata": {},
     "output_type": "execute_result"
    }
   ],
   "source": [
    "100/5"
   ]
  },
  {
   "cell_type": "code",
   "execution_count": 78,
   "id": "991fffe5",
   "metadata": {},
   "outputs": [
    {
     "data": {
      "text/plain": [
       "20"
      ]
     },
     "execution_count": 78,
     "metadata": {},
     "output_type": "execute_result"
    }
   ],
   "source": [
    "100//5"
   ]
  },
  {
   "cell_type": "code",
   "execution_count": 79,
   "id": "7b31740b",
   "metadata": {},
   "outputs": [
    {
     "name": "stdout",
     "output_type": "stream",
     "text": [
      "1024\n"
     ]
    }
   ],
   "source": [
    "#exponential(**=)\n",
    "a = 2\n",
    "# find a to the power of 10\n",
    "a**=10\n",
    "print(a)"
   ]
  },
  {
   "cell_type": "code",
   "execution_count": 80,
   "id": "76ca247e",
   "metadata": {},
   "outputs": [
    {
     "name": "stdout",
     "output_type": "stream",
     "text": [
      "100000\n"
     ]
    }
   ],
   "source": [
    "b = 10\n",
    "b **=5\n",
    "print(b)"
   ]
  },
  {
   "cell_type": "markdown",
   "id": "d0e5bd16",
   "metadata": {},
   "source": [
    "# Thanks"
   ]
  },
  {
   "cell_type": "code",
   "execution_count": null,
   "id": "ec86bcda",
   "metadata": {},
   "outputs": [],
   "source": []
  }
 ],
 "metadata": {
  "kernelspec": {
   "display_name": "Python 3",
   "language": "python",
   "name": "python3"
  },
  "language_info": {
   "codemirror_mode": {
    "name": "ipython",
    "version": 3
   },
   "file_extension": ".py",
   "mimetype": "text/x-python",
   "name": "python",
   "nbconvert_exporter": "python",
   "pygments_lexer": "ipython3",
   "version": "3.13.7"
  }
 },
 "nbformat": 4,
 "nbformat_minor": 5
}
