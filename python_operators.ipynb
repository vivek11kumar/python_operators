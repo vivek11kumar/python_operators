{
 "cells": [
  {
   "cell_type": "markdown",
   "id": "0d471287",
   "metadata": {},
   "source": [
    "# Python Operators\n",
    "* Arithmetic operators\n",
    "* Assignment operators\n",
    "* comparison operators\n",
    "* Logical operators\n",
    "* Identity operators\n",
    "* Membership operators\n",
    "* Bitwise operators"
   ]
  },
  {
   "cell_type": "markdown",
   "id": "8c1e228e",
   "metadata": {},
   "source": [
    "# Arithmetic operators\n",
    "* addition(+)\n",
    "* Subtraction(-)\n",
    "* Multiplication(*)\n",
    "* exponential(**)\n",
    "* Division (/)\n",
    "* floor division(//)\n",
    "* modulus (%)"
   ]
  },
  {
   "cell_type": "code",
   "execution_count": 1,
   "id": "287e5a9a",
   "metadata": {},
   "outputs": [
    {
     "name": "stdout",
     "output_type": "stream",
     "text": [
      "700\n",
      "<class 'int'>\n"
     ]
    }
   ],
   "source": [
    "# addition(+): It is used to add two or more elements\n",
    "a = 500\n",
    "b = 200\n",
    "c = a+b\n",
    "print(c)\n",
    "print(type(c))"
   ]
  },
  {
   "cell_type": "code",
   "execution_count": 2,
   "id": "972ffd60",
   "metadata": {},
   "outputs": [
    {
     "name": "stdout",
     "output_type": "stream",
     "text": [
      "200\n",
      "<class 'int'>\n"
     ]
    }
   ],
   "source": [
    "# Subtraction(-): It is used to find the difference between 2 or more numbers\n",
    "a = 500\n",
    "b = 300\n",
    "d = a-b\n",
    "print(d)\n",
    "print(type(d))"
   ]
  },
  {
   "cell_type": "code",
   "execution_count": 3,
   "id": "80ff0d91",
   "metadata": {},
   "outputs": [
    {
     "name": "stdout",
     "output_type": "stream",
     "text": [
      "20\n",
      "<class 'int'>\n"
     ]
    }
   ],
   "source": [
    "# Multiplication(*):It is used to multiply 2 or more numbers\n",
    "a = 5\n",
    "b = 4\n",
    "e = a*b\n",
    "print(e)\n",
    "print(type(e))"
   ]
  },
  {
   "cell_type": "code",
   "execution_count": 4,
   "id": "4a172276",
   "metadata": {},
   "outputs": [
    {
     "name": "stdout",
     "output_type": "stream",
     "text": [
      "8\n",
      "<class 'int'>\n"
     ]
    }
   ],
   "source": [
    "# exponential(**):power\n",
    "# 2 power 3\n",
    "d = 2**3\n",
    "print(d)\n",
    "print(type(e))"
   ]
  },
  {
   "cell_type": "code",
   "execution_count": 5,
   "id": "96956971",
   "metadata": {},
   "outputs": [
    {
     "name": "stdout",
     "output_type": "stream",
     "text": [
      "100000\n",
      "<class 'int'>\n"
     ]
    }
   ],
   "source": [
    "#10 power 5\n",
    "f = 10**5\n",
    "print(f)\n",
    "print(type(f))"
   ]
  },
  {
   "cell_type": "code",
   "execution_count": 7,
   "id": "dee73753",
   "metadata": {},
   "outputs": [
    {
     "name": "stdout",
     "output_type": "stream",
     "text": [
      "10.0\n",
      "<class 'float'>\n"
     ]
    }
   ],
   "source": [
    "# division(/):It is used to divide one number by other\n",
    "m = 100\n",
    "n = 10\n",
    "j = m/n\n",
    "print(j)\n",
    "print(type(j))\n",
    "# result will be in float format"
   ]
  },
  {
   "cell_type": "code",
   "execution_count": 10,
   "id": "4d3d5fa5",
   "metadata": {},
   "outputs": [
    {
     "name": "stdout",
     "output_type": "stream",
     "text": [
      "9\n",
      "<class 'int'>\n"
     ]
    }
   ],
   "source": [
    "# floor division(//): It returns integer result upon division\n",
    "k = 100\n",
    "l = 11\n",
    "a = k//l\n",
    "print(a)\n",
    "print(type(a))"
   ]
  },
  {
   "cell_type": "code",
   "execution_count": 11,
   "id": "ed2f28cd",
   "metadata": {},
   "outputs": [
    {
     "name": "stdout",
     "output_type": "stream",
     "text": [
      "1\n",
      "<class 'int'>\n"
     ]
    }
   ],
   "source": [
    " # Modulus(%): It returns remainder value upon division\n",
    "m = 100\n",
    "n = 9\n",
    "s = m%n\n",
    "print(s)\n",
    "print(type(s))"
   ]
  },
  {
   "cell_type": "code",
   "execution_count": null,
   "id": "1c1006e8",
   "metadata": {},
   "outputs": [],
   "source": []
  }
 ],
 "metadata": {
  "kernelspec": {
   "display_name": "Python 3",
   "language": "python",
   "name": "python3"
  },
  "language_info": {
   "codemirror_mode": {
    "name": "ipython",
    "version": 3
   },
   "file_extension": ".py",
   "mimetype": "text/x-python",
   "name": "python",
   "nbconvert_exporter": "python",
   "pygments_lexer": "ipython3",
   "version": "3.13.7"
  }
 },
 "nbformat": 4,
 "nbformat_minor": 5
}
