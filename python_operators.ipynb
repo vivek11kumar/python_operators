{
 "cells": [
  {
   "cell_type": "markdown",
   "id": "0d471287",
   "metadata": {},
   "source": [
    "# Python Operators\n",
    "* Arithmetic operators\n",
    "* Assignment operators\n",
    "* comparison operators\n",
    "* Logical operators\n",
    "* Identity operators\n",
    "* Membership operators\n",
    "* Bitwise operators"
   ]
  },
  {
   "cell_type": "markdown",
   "id": "8c1e228e",
   "metadata": {},
   "source": [
    "# Arithmetic operators\n",
    "* addition(+)\n",
    "* Subtraction(-)\n",
    "* Multiplication(*)\n",
    "* exponential(**)\n",
    "* Division (/)\n",
    "* floor division(//)\n",
    "* modulus (%)"
   ]
  },
  {
   "cell_type": "code",
   "execution_count": 1,
   "id": "287e5a9a",
   "metadata": {},
   "outputs": [
    {
     "name": "stdout",
     "output_type": "stream",
     "text": [
      "700\n",
      "<class 'int'>\n"
     ]
    }
   ],
   "source": [
    "# addition(+): It is used to add two or more elements\n",
    "a = 500\n",
    "b = 200\n",
    "c = a+b\n",
    "print(c)\n",
    "print(type(c))"
   ]
  },
  {
   "cell_type": "code",
   "execution_count": 2,
   "id": "972ffd60",
   "metadata": {},
   "outputs": [
    {
     "name": "stdout",
     "output_type": "stream",
     "text": [
      "200\n",
      "<class 'int'>\n"
     ]
    }
   ],
   "source": [
    "# Subtraction(-): It is used to find the difference between 2 or more numbers\n",
    "a = 500\n",
    "b = 300\n",
    "d = a-b\n",
    "print(d)\n",
    "print(type(d))"
   ]
  },
  {
   "cell_type": "code",
   "execution_count": 3,
   "id": "80ff0d91",
   "metadata": {},
   "outputs": [
    {
     "name": "stdout",
     "output_type": "stream",
     "text": [
      "20\n",
      "<class 'int'>\n"
     ]
    }
   ],
   "source": [
    "# Multiplication(*):It is used to multiply 2 or more numbers\n",
    "a = 5\n",
    "b = 4\n",
    "e = a*b\n",
    "print(e)\n",
    "print(type(e))"
   ]
  },
  {
   "cell_type": "code",
   "execution_count": 4,
   "id": "4a172276",
   "metadata": {},
   "outputs": [
    {
     "name": "stdout",
     "output_type": "stream",
     "text": [
      "8\n",
      "<class 'int'>\n"
     ]
    }
   ],
   "source": [
    "# exponential(**):power\n",
    "# 2 power 3\n",
    "d = 2**3\n",
    "print(d)\n",
    "print(type(e))"
   ]
  },
  {
   "cell_type": "code",
   "execution_count": 5,
   "id": "96956971",
   "metadata": {},
   "outputs": [
    {
     "name": "stdout",
     "output_type": "stream",
     "text": [
      "100000\n",
      "<class 'int'>\n"
     ]
    }
   ],
   "source": [
    "#10 power 5\n",
    "f = 10**5\n",
    "print(f)\n",
    "print(type(f))"
   ]
  },
  {
   "cell_type": "code",
   "execution_count": 7,
   "id": "dee73753",
   "metadata": {},
   "outputs": [
    {
     "name": "stdout",
     "output_type": "stream",
     "text": [
      "10.0\n",
      "<class 'float'>\n"
     ]
    }
   ],
   "source": [
    "# division(/):It is used to divide one number by other\n",
    "m = 100\n",
    "n = 10\n",
    "j = m/n\n",
    "print(j)\n",
    "print(type(j))\n",
    "# result will be in float format"
   ]
  },
  {
   "cell_type": "code",
   "execution_count": 10,
   "id": "4d3d5fa5",
   "metadata": {},
   "outputs": [
    {
     "name": "stdout",
     "output_type": "stream",
     "text": [
      "9\n",
      "<class 'int'>\n"
     ]
    }
   ],
   "source": [
    "# floor division(//): It returns integer result upon division\n",
    "k = 100\n",
    "l = 11\n",
    "a = k//l\n",
    "print(a)\n",
    "print(type(a))"
   ]
  },
  {
   "cell_type": "code",
   "execution_count": null,
   "id": "ed2f28cd",
   "metadata": {},
   "outputs": [
    {
     "name": "stdout",
     "output_type": "stream",
     "text": [
      "1\n",
      "<class 'int'>\n"
     ]
    }
   ],
   "source": [
    " # Modulus(%): It returns remainder value upon division\n",
    "m = 100\n",
    "n = 9\n",
    "s = m%n\n",
    "print(s)\n",
    "print(type(s)) "
   ]
  },
  {
   "cell_type": "code",
   "execution_count": 12,
   "id": "1c1006e8",
   "metadata": {},
   "outputs": [
    {
     "name": "stdout",
     "output_type": "stream",
     "text": [
      "0\n",
      "<class 'int'>\n"
     ]
    }
   ],
   "source": [
    "m = 100\n",
    "n = 10\n",
    "s = m%n\n",
    "print(s)\n",
    "print(type(s)) "
   ]
  },
  {
   "cell_type": "code",
   "execution_count": 14,
   "id": "621a16a0",
   "metadata": {},
   "outputs": [
    {
     "name": "stdout",
     "output_type": "stream",
     "text": [
      "2\n",
      "<class 'int'>\n"
     ]
    }
   ],
   "source": [
    " # Modulus(%): It returns remainder value upon division\n",
    "m = 20\n",
    "n = 9\n",
    "s = m%n\n",
    "print(s)\n",
    "print(type(s)) "
   ]
  },
  {
   "cell_type": "code",
   "execution_count": 15,
   "id": "a4e98f0e",
   "metadata": {},
   "outputs": [
    {
     "data": {
      "text/plain": [
       "0"
      ]
     },
     "execution_count": 15,
     "metadata": {},
     "output_type": "execute_result"
    }
   ],
   "source": [
    "12%4"
   ]
  },
  {
   "cell_type": "markdown",
   "id": "855c7898",
   "metadata": {},
   "source": [
    "# Comparison operators\n",
    "\n",
    "Comaprison operators are used to compare values.\n",
    "\n",
    "* equal(==)\n",
    "* not equal (!=)\n",
    "* greater than (>)\n",
    "* less than (<)\n",
    "* greaterthan or equal (>=)\n",
    "* less than or equal (<=)"
   ]
  },
  {
   "cell_type": "code",
   "execution_count": 20,
   "id": "36829f2a",
   "metadata": {},
   "outputs": [
    {
     "data": {
      "text/plain": [
       "False"
      ]
     },
     "execution_count": 20,
     "metadata": {},
     "output_type": "execute_result"
    }
   ],
   "source": [
    "# Is a same as b\n",
    "a = 10\n",
    "b = 20\n",
    "a == b"
   ]
  },
  {
   "cell_type": "code",
   "execution_count": 23,
   "id": "d81c1c6b",
   "metadata": {},
   "outputs": [
    {
     "data": {
      "text/plain": [
       "False"
      ]
     },
     "execution_count": 23,
     "metadata": {},
     "output_type": "execute_result"
    }
   ],
   "source": [
    "b ==a"
   ]
  },
  {
   "cell_type": "code",
   "execution_count": 22,
   "id": "7734eab0",
   "metadata": {},
   "outputs": [
    {
     "data": {
      "text/plain": [
       "True"
      ]
     },
     "execution_count": 22,
     "metadata": {},
     "output_type": "execute_result"
    }
   ],
   "source": [
    "# Is a and b are different\n",
    "a!=b"
   ]
  },
  {
   "cell_type": "code",
   "execution_count": 24,
   "id": "d3c385ca",
   "metadata": {},
   "outputs": [
    {
     "data": {
      "text/plain": [
       "True"
      ]
     },
     "execution_count": 24,
     "metadata": {},
     "output_type": "execute_result"
    }
   ],
   "source": [
    "b!=a"
   ]
  },
  {
   "cell_type": "code",
   "execution_count": 32,
   "id": "7ca6c1a3",
   "metadata": {},
   "outputs": [
    {
     "data": {
      "text/plain": [
       "False"
      ]
     },
     "execution_count": 32,
     "metadata": {},
     "output_type": "execute_result"
    }
   ],
   "source": [
    "# Is a greater than b\n",
    "a>b\n"
   ]
  },
  {
   "cell_type": "code",
   "execution_count": 26,
   "id": "96d215a0",
   "metadata": {},
   "outputs": [
    {
     "data": {
      "text/plain": [
       "True"
      ]
     },
     "execution_count": 26,
     "metadata": {},
     "output_type": "execute_result"
    }
   ],
   "source": [
    "b>a"
   ]
  },
  {
   "cell_type": "code",
   "execution_count": null,
   "id": "5bff019d",
   "metadata": {},
   "outputs": [
    {
     "data": {
      "text/plain": [
       "True"
      ]
     },
     "execution_count": 30,
     "metadata": {},
     "output_type": "execute_result"
    }
   ],
   "source": [
    "# Is a gless than b\n",
    "a<b"
   ]
  },
  {
   "cell_type": "code",
   "execution_count": 31,
   "id": "35f2c90e",
   "metadata": {},
   "outputs": [
    {
     "data": {
      "text/plain": [
       "False"
      ]
     },
     "execution_count": 31,
     "metadata": {},
     "output_type": "execute_result"
    }
   ],
   "source": [
    "# Is b less than a\n",
    "b<a"
   ]
  },
  {
   "cell_type": "code",
   "execution_count": 33,
   "id": "bbf5765c",
   "metadata": {},
   "outputs": [
    {
     "data": {
      "text/plain": [
       "False"
      ]
     },
     "execution_count": 33,
     "metadata": {},
     "output_type": "execute_result"
    }
   ],
   "source": [
    "# Is a greater than or equal to b\n",
    "a>=b"
   ]
  },
  {
   "cell_type": "code",
   "execution_count": 34,
   "id": "d0754411",
   "metadata": {},
   "outputs": [
    {
     "data": {
      "text/plain": [
       "True"
      ]
     },
     "execution_count": 34,
     "metadata": {},
     "output_type": "execute_result"
    }
   ],
   "source": [
    "# Is b greater than or equal to a\n",
    "b>=a"
   ]
  },
  {
   "cell_type": "code",
   "execution_count": 35,
   "id": "128ed35c",
   "metadata": {},
   "outputs": [
    {
     "data": {
      "text/plain": [
       "False"
      ]
     },
     "execution_count": 35,
     "metadata": {},
     "output_type": "execute_result"
    }
   ],
   "source": [
    "# Is b less than or equal to a\n",
    "b<=a"
   ]
  },
  {
   "cell_type": "markdown",
   "id": "9ebc92fa",
   "metadata": {},
   "source": [
    "# Logical operators\n",
    "It is used to compare multiple conditions\n",
    "* and\n",
    "* or\n",
    "* not"
   ]
  },
  {
   "cell_type": "code",
   "execution_count": 37,
   "id": "9dd31ba8",
   "metadata": {},
   "outputs": [
    {
     "data": {
      "text/plain": [
       "True"
      ]
     },
     "execution_count": 37,
     "metadata": {},
     "output_type": "execute_result"
    }
   ],
   "source": [
    "# and : If all the conditions are true  it returns true otherwise false.\n",
    "# True and TRue-->True\n",
    "(10>5) and (100>50)"
   ]
  },
  {
   "cell_type": "code",
   "execution_count": 38,
   "id": "7b75a757",
   "metadata": {},
   "outputs": [
    {
     "data": {
      "text/plain": [
       "False"
      ]
     },
     "execution_count": 38,
     "metadata": {},
     "output_type": "execute_result"
    }
   ],
   "source": [
    "# False and True-->False\n",
    "(10<5) and (100>50)"
   ]
  },
  {
   "cell_type": "code",
   "execution_count": 39,
   "id": "c8f9e4fc",
   "metadata": {},
   "outputs": [
    {
     "data": {
      "text/plain": [
       "False"
      ]
     },
     "execution_count": 39,
     "metadata": {},
     "output_type": "execute_result"
    }
   ],
   "source": [
    "# False and False --> False\n",
    "(10<5) and (100<50)"
   ]
  },
  {
   "cell_type": "code",
   "execution_count": 40,
   "id": "f5446837",
   "metadata": {},
   "outputs": [
    {
     "data": {
      "text/plain": [
       "True"
      ]
     },
     "execution_count": 40,
     "metadata": {},
     "output_type": "execute_result"
    }
   ],
   "source": [
    "(10.1>10)and(30<30.2)"
   ]
  },
  {
   "cell_type": "markdown",
   "id": "85df3e7c",
   "metadata": {},
   "source": [
    "\n",
    "# T and T : T\n",
    "# T and F : F\n",
    "# F and T : F\n",
    "# F and F : F \n"
   ]
  },
  {
   "cell_type": "code",
   "execution_count": 41,
   "id": "9e201948",
   "metadata": {},
   "outputs": [
    {
     "data": {
      "text/plain": [
       "'\\nT and T : T\\nT and F : F\\nF and T : F\\nF and F : F '"
      ]
     },
     "execution_count": 41,
     "metadata": {},
     "output_type": "execute_result"
    }
   ],
   "source": [
    "'''\n",
    "T and T : T\n",
    "T and F : F\n",
    "F and T : F\n",
    "F and F : F '''\n"
   ]
  },
  {
   "cell_type": "markdown",
   "id": "4160de1c",
   "metadata": {},
   "source": [
    "# or : It returns true if either of the condition is true , otherwise False.\n",
    "\n",
    "\n",
    "* TT : T\n",
    "* TF : T\n",
    "* FT : T\n",
    "* FF : F "
   ]
  },
  {
   "cell_type": "code",
   "execution_count": null,
   "id": "a53c4feb",
   "metadata": {},
   "outputs": [],
   "source": []
  }
 ],
 "metadata": {
  "kernelspec": {
   "display_name": "Python 3",
   "language": "python",
   "name": "python3"
  },
  "language_info": {
   "codemirror_mode": {
    "name": "ipython",
    "version": 3
   },
   "file_extension": ".py",
   "mimetype": "text/x-python",
   "name": "python",
   "nbconvert_exporter": "python",
   "pygments_lexer": "ipython3",
   "version": "3.13.7"
  }
 },
 "nbformat": 4,
 "nbformat_minor": 5
}
